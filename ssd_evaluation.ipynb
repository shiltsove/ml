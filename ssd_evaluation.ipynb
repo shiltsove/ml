{
 "cells": [
  {
   "cell_type": "code",
   "execution_count": 12,
   "metadata": {},
   "outputs": [],
   "source": [
    "import numpy as np\n",
    "import cv2\n",
    "import os\n",
    "import re\n",
    "import openpyxl"
   ]
  },
  {
   "cell_type": "code",
   "execution_count": 13,
   "metadata": {},
   "outputs": [],
   "source": [
    "#global variables\n",
    "\n",
    "ssd_results_dictionary = {}\n",
    "ground_truth_dictionary = {}\n",
    "treshold = 0.5\n",
    "path_to_ground_truth = \"./TestGround/\"\n",
    "#path_to_images = \"./TestImages/\"\n",
    "path_to_images = \"./TestImagesSmall/\"\n",
    "path_to_SSD_GT_results = \"./SSD_GT_Outputs/\"\n",
    "\n",
    "\n",
    "CLASSES = [\"background\", \"aeroplane\", \"bicycle\", \"bird\", \"boat\",\n",
    "           \"bottle\", \"bus\", \"car\", \"cat\", \"chair\", \"cow\", \"diningtable\",\n",
    "           \"dog\", \"horse\", \"motorbikes\", \"person\", \"pottedplant\", \"sheep\",\n",
    "           \"sofa\", \"train\", \"tvmonitor\"]\n",
    "COLORS = np.random.uniform(0, 255, size=(len(CLASSES), 3))"
   ]
  },
  {
   "cell_type": "markdown",
   "metadata": {},
   "source": [
    "The function compares two rectangles by calculating the ratio of their intersection and the total area."
   ]
  },
  {
   "cell_type": "code",
   "execution_count": 14,
   "metadata": {},
   "outputs": [],
   "source": [
    "def intersection_over_union(boxA, boxB):\n",
    "    # determine the (x, y)-coordinates of the intersection rectangle\n",
    "    xA = max(boxA[0], boxB[0])\n",
    "    yA = max(boxA[1], boxB[1])\n",
    "    xB = min(boxA[2], boxB[2])\n",
    "    yB = min(boxA[3], boxB[3])\n",
    "\n",
    "    # compute the area of intersection rectangle\n",
    "    interArea = abs(max((xB - xA, 0)) * max((yB - yA), 0))\n",
    "    if interArea == 0:\n",
    "        return 0\n",
    "    # compute the area of both the prediction and ground-truth\n",
    "    # rectangles\n",
    "    boxAArea = abs((boxA[2] - boxA[0]) * (boxA[3] - boxA[1]))\n",
    "    boxBArea = abs((boxB[2] - boxB[0]) * (boxB[3] - boxB[1]))\n",
    "\n",
    "    # compute the intersection over union by taking the intersection\n",
    "    # area and dividing it by the sum of prediction + ground-truth\n",
    "    # areas - the interesection area\n",
    "    iou = interArea / float(boxAArea + boxBArea - interArea)\n",
    "\n",
    "    # return the intersection over union value\n",
    "    return iou"
   ]
  },
  {
   "cell_type": "markdown",
   "metadata": {},
   "source": [
    "The next function step by step compares the coincidence of the coordinates obtained from the Ground Truth and the coordinates received from the Single Shot Detector. Comparison is made using the \"intersection_over_union\" function. The comparison results are stored in a special dictionary, which is used to make the final verdict."
   ]
  },
  {
   "cell_type": "code",
   "execution_count": 15,
   "metadata": {},
   "outputs": [],
   "source": [
    "def confusion_matrix(GTdictionary, SSDictionary, category):\n",
    "    TP = 0\n",
    "    FP = 0\n",
    "    FN = 0\n",
    "    iouresults = {}\n",
    "    max_check = treshold\n",
    "    \n",
    "    #if SSD not get right category at all\n",
    "    if not category in SSDictionary:\n",
    "        FN = int(len(GTdictionary[category])/5)\n",
    "        TP = 0\n",
    "        FP = 0\n",
    "        return TP,FP,FN\n",
    "    \n",
    "    #for each object in ground truth looking for most suitable SSD object.\n",
    "    for inc in range(0, len(GTdictionary[category]), 5):\n",
    "        for jnc in range(0, len(SSDictionary[category]), 5):\n",
    "            #gain intersection over union results to determine\n",
    "            iou = intersection_over_union(GTdictionary[category][inc:inc+4],SSDictionary[category][jnc:jnc+4])\n",
    "            #for current GT object finding the most suitable SSD object\n",
    "            #and write it number to result dictionary where key is the number of the GT object\n",
    "            #if nothing matches the GT object with the given precision, then nothing will be written to the result dictionary\n",
    "            if max_check < iou:\n",
    "                max_check = iou\n",
    "                iouresults[inc/5+1] = jnc/5+1\n",
    "        #print(\"The iou check dict\",iouresults)\n",
    "        max_check = treshold\n",
    "    \n",
    "    #Check if one object from SSD matches more than one object from GT\n",
    "    SSD_frame_overmatch = len(iouresults)-len(dict.fromkeys(iouresults.values()))\n",
    "    #Only correct matches is written to the results dictionary, so it length is the number on correctly determined objects\n",
    "    TP = len(iouresults)-SSD_frame_overmatch\n",
    "    #remaining objects from GT dictionary are undefined by SSD\n",
    "    FN = int(len(GTdictionary[category])/5)-TP\n",
    "    #objects from SSD dictionary that not muth the GT objects are determined as false detection\n",
    "    FP = int(len(SSDictionary[category])/5)-len(dict.fromkeys(iouresults.values()))\n",
    "    iouresults.clear()\n",
    "    return TP,FP,FN"
   ]
  },
  {
   "cell_type": "markdown",
   "metadata": {},
   "source": [
    "The following function is designed to control the operation of the main function \"confusion_matrix\". If something does not work as it should, this function will signal that the output does not match the predicted one."
   ]
  },
  {
   "cell_type": "code",
   "execution_count": 17,
   "metadata": {},
   "outputs": [],
   "source": [
    "def test_confusion_matrix():\n",
    "    #GIVEN\n",
    "    GroundTruthDictionary = {\"person\":[225, 46, 273, 192,-1,1,12,100,150,-1]}\n",
    "    SingleShotDetectorDictionary = {\"person\":[235, 56, 273, 181,0.5,281, 42, 328, 195, 0.5]}\n",
    "    #WHEN\n",
    "    TruePositive,FalsePositive,FalseNegative = confusion_matrix(GroundTruthDictionary, SingleShotDetectorDictionary, \"person\")\n",
    "    \n",
    "    #THEN\n",
    "    assert TruePositive == 1, \"TruePositive must be 1\"\n",
    "    assert FalsePositive == 1, \"TruePositive must be 1\"\n",
    "    assert FalseNegative == 1, \"TruePositive must be 1\"\n",
    "    \n",
    "test_confusion_matrix()"
   ]
  },
  {
   "cell_type": "markdown",
   "metadata": {},
   "source": [
    "The function opens a file of a certain format with Ground Truth information, reads the coordinates of the objects and writes to the dictionary."
   ]
  },
  {
   "cell_type": "code",
   "execution_count": 18,
   "metadata": {},
   "outputs": [],
   "source": [
    "def get_coordinates_from_ground_truth(file, dictionary):\n",
    "    groundFile = open(file, \"r\") #open file\n",
    "    for line in groundFile:\n",
    "        if line.find(\"Original label for object\") == 0:\n",
    "            separated = line.split()\n",
    "            category_type = re.sub('\"','', separated[-1]) #get type of object from txt file\n",
    "        if line.find(\"Bounding box for object\") == 0:\n",
    "            separated = line.split()\n",
    "            #get Top Left, Right Bottom coordinates from file\n",
    "            #as fifth element adding degenerate confidence to have a similar format with coordinates from the SSD\n",
    "            coordinates = [int(re.sub('[^0-9]','', separated[12])),int(re.sub('[^0-9]','', separated[13])),int(re.sub('[^0-9]','',separated[15])),int(re.sub('[^0-9]','', separated[16])),-1]\n",
    "            #save coordinates in the right dictionary element\n",
    "            if category_type in dictionary:\n",
    "                dictionary[category_type] += coordinates\n",
    "            else:\n",
    "                dictionary[category_type] = coordinates\n",
    "    groundFile.close()"
   ]
  },
  {
   "cell_type": "code",
   "execution_count": 19,
   "metadata": {},
   "outputs": [],
   "source": [
    "def write_frame_to_picture(image,source_path,save_path, dictionary,name_modificator):\n",
    "    color = (255, 255, 0)\n",
    "    image_processed = cv2.imread(source_path+image)\n",
    "    for x_key in dictionary.keys():\n",
    "        for inc in range(0, len(dictionary[x_key]), 5):\n",
    "            startX, startY, endX, endY, confidence = dictionary[x_key][inc:inc+5]\n",
    "            if confidence > -1:\n",
    "                label = \"{}: {:.2f}%\".format(x_key, confidence * 100)\n",
    "            else:\n",
    "                label = \"{}\".format(x_key)\n",
    "            cv2.rectangle(image_processed, (startX, startY), (endX, endY), color, 2)\n",
    "            y = startY - 15 if startY - 15 > 15 else startY + 15\n",
    "            cv2.putText(image_processed, label, (startX, y),\n",
    "            cv2.FONT_HERSHEY_SIMPLEX, 0.7, color, 2)\n",
    "    #print(image.split(\".\")[0]+name_modificator+\".\"+image.split(\".\")[1])\n",
    "    cv2.imwrite(save_path+image.split(\".\")[0]+name_modificator+\".\"+image.split(\".\")[1], image_processed)"
   ]
  },
  {
   "cell_type": "code",
   "execution_count": 20,
   "metadata": {},
   "outputs": [
    {
     "name": "stdout",
     "output_type": "stream",
     "text": [
      "[INFO] loading model…\n"
     ]
    }
   ],
   "source": [
    "print(\"[INFO] loading model…\")\n",
    "# \n",
    "conf_threshold = 0.5\n",
    "net = cv2.dnn.readNetFromCaffe(\"MobileNetSSD_deploy.prototxt\", \"MobileNetSSD_deploy.caffemodel\")\n"
   ]
  },
  {
   "cell_type": "code",
   "execution_count": 21,
   "metadata": {},
   "outputs": [],
   "source": [
    "#initialize the entry in xlsx file\n",
    "xlsx_row = 1\n",
    "xlsx_col = 1\n",
    "#create xlsx file to store results\n",
    "CM_results_workbook = openpyxl.Workbook()\n",
    "worksheet = CM_results_workbook.active\n",
    "worksheet.title = \"Default_SSD_Evaluation\"\n",
    "#prepare column names\n",
    "worksheet.cell(xlsx_row, xlsx_col, \"File name\")\n",
    "worksheet.cell(xlsx_row, xlsx_col+1, \"Category\")\n",
    "worksheet.cell(xlsx_row, xlsx_col+2, \"TP\")\n",
    "worksheet.cell(xlsx_row, xlsx_col+3, \"FP\")\n",
    "worksheet.cell(xlsx_row, xlsx_col+4, \"FN\")\n",
    "\n",
    "xlsx_row += 1"
   ]
  },
  {
   "cell_type": "code",
   "execution_count": 24,
   "metadata": {
    "scrolled": true
   },
   "outputs": [
    {
     "name": "stdout",
     "output_type": "stream",
     "text": [
      "finished!\n"
     ]
    }
   ],
   "source": [
    "#iterate over images and search for objects\n",
    "\n",
    "# create folder to store images with detector frames.\n",
    "if not os.path.exists(path_to_SSD_GT_results):\n",
    "    os.makedirs(path_to_SSD_GT_results)\n",
    "\n",
    "image_list = os.listdir(path_to_images)\n",
    "image_list.sort() \n",
    "    \n",
    "for image_file in image_list:\n",
    "    #print (image_file)\n",
    "    worksheet.cell(xlsx_row, xlsx_col, image_file)\n",
    "    image = cv2.imread(path_to_images+image_file)\n",
    "    #image = cv2.imread(\"TestImages/0001.png\")\n",
    "    (h, w) = image.shape[:2]\n",
    "    blob = cv2.dnn.blobFromImage(cv2.resize(image, (300, 300)), 0.007843, (300, 300), 127.5)\n",
    "    #print(\"[INFO] computing object detections…\")\n",
    "    net.setInput(blob)\n",
    "    detections = net.forward()\n",
    "    for i in np.arange(0, detections.shape[2]):\n",
    "        confidence = detections[0, 0, i, 2]\n",
    "        if confidence > conf_threshold:\n",
    "            idx = int(detections[0, 0, i, 1])\n",
    "            box = detections[0, 0, i, 3:7] * np.array([w, h, w, h])\n",
    "            (startX, startY, endX, endY) = box.astype(\"int\")\n",
    "            #label = \"{}: {:.2f}%\".format(CLASSES[idx], confidence * 100)\n",
    "            #print(\"[INFO] {}\".format(label))\n",
    "            #cv2.rectangle(image, (startX, startY), (endX, endY), COLORS[idx], 2)\n",
    "            \n",
    "            #print (\"type:\",CLASSES[idx],\"Top left X:Y\",startX,\":\",startY,\"Bottom right X:Y\",endX,\":\",endY)\n",
    "            #y = startY - 15 if startY - 15 > 15 else startY + 15\n",
    "            #cv2.putText(image, label, (startX, y),\n",
    "            #cv2.FONT_HERSHEY_SIMPLEX, 0.7, COLORS[idx], 2)\n",
    "                        \n",
    "            if CLASSES[idx] in ssd_results_dictionary:\n",
    "                ssd_results_dictionary[CLASSES[idx]] += [startX,startY,endX,endY,confidence]\n",
    "            else:\n",
    "                ssd_results_dictionary[CLASSES[idx]] = [startX,startY,endX,endY,confidence]\n",
    "    \n",
    "    #from image name generating txt filename with ground truth information.\n",
    "    image_ground_truth = image_file.split(\".\")[0]+\".txt\"\n",
    "    get_coordinates_from_ground_truth(path_to_ground_truth+image_ground_truth,ground_truth_dictionary)\n",
    "\n",
    "    #saving picture with GT frames to the new image \n",
    "    write_frame_to_picture(image_file,path_to_images,path_to_SSD_GT_results, ground_truth_dictionary,\"_GT\")\n",
    "    #saving picture with SSD frames to the new image \n",
    "    write_frame_to_picture(image_file,path_to_images,path_to_SSD_GT_results, ssd_results_dictionary,\"_SSD\")\n",
    "   \n",
    "    #write confusion matrix results to the xlsx file\n",
    "    for x_cat in ground_truth_dictionary.keys():\n",
    "        TruePositive,FalsePositive,FalseNegative = confusion_matrix(ground_truth_dictionary,ssd_results_dictionary,x_cat)\n",
    "        #writing results to xlsx file\n",
    "        worksheet.cell(xlsx_row, xlsx_col+1, x_cat)\n",
    "        worksheet.cell(xlsx_row, xlsx_col+2, TruePositive)\n",
    "        worksheet.cell(xlsx_row, xlsx_col+3, FalsePositive)\n",
    "        worksheet.cell(xlsx_row, xlsx_col+4, FalseNegative)\n",
    "        xlsx_row += 1\n",
    "        \n",
    "    #cleaning dictionaries in order to avoid previous image interference\n",
    "    ground_truth_dictionary.clear()\n",
    "    ssd_results_dictionary.clear()\n",
    "\n",
    "    #saving picture with SSD frames to the new image        \n",
    "    #cv2.imwrite(path_to_SSD_GT_results+image_file.split(\".\")[0]+\"_SSD.\"+image_file.split(\".\")[1], image)\n",
    "    \n",
    "    \n",
    "    \n",
    "    \n",
    "    #cv2.imshow(\"Output\", image)\n",
    "    #cv2.waitKey(0)\n",
    "    \n",
    "#saving xlsx file\n",
    "CM_results_workbook.save('New_table.xlsx')\n",
    "print(\"finished!\")    "
   ]
  },
  {
   "cell_type": "code",
   "execution_count": null,
   "metadata": {},
   "outputs": [],
   "source": []
  }
 ],
 "metadata": {
  "kernelspec": {
   "display_name": "Python 3",
   "language": "python",
   "name": "python3"
  },
  "language_info": {
   "codemirror_mode": {
    "name": "ipython",
    "version": 3
   },
   "file_extension": ".py",
   "mimetype": "text/x-python",
   "name": "python",
   "nbconvert_exporter": "python",
   "pygments_lexer": "ipython3",
   "version": "3.6.9"
  }
 },
 "nbformat": 4,
 "nbformat_minor": 4
}
